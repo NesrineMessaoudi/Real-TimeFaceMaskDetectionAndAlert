{
  "nbformat": 4,
  "nbformat_minor": 0,
  "metadata": {
    "kernelspec": {
      "display_name": "Python 3",
      "language": "python",
      "name": "python3"
    },
    "language_info": {
      "codemirror_mode": {
        "name": "ipython",
        "version": 3
      },
      "file_extension": ".py",
      "mimetype": "text/x-python",
      "name": "python",
      "nbconvert_exporter": "python",
      "pygments_lexer": "ipython3",
      "version": "3.7.4"
    },
    "colab": {
      "name": "data preprocessing1.ipynb",
      "provenance": [],
      "collapsed_sections": []
    }
  },
  "cells": [
    {
      "cell_type": "markdown",
      "metadata": {
        "id": "luhiHlCZt14H"
      },
      "source": [
        ""
      ]
    },
    {
      "cell_type": "markdown",
      "metadata": {
        "id": "1M3ChUrmMpEG"
      },
      "source": [
        "# The Dataset\n",
        "\n",
        "The dataset consisted of 1376 images, 690 face images with masks and 686 without masks. The original dataset is prepared by [Prajna Bhandary](https://www.linkedin.com/in/prajna-bhandary-0b03a416a/) and available at [Github](https://github.com/prajnasb/observations/tree/master/experiements/data)\n",
        "\n",
        "![dataset.png](attachment:dataset.png)"
      ]
    },
    {
      "cell_type": "code",
      "metadata": {
        "id": "z5EI5uPOmqIw"
      },
      "source": [
        "import cv2,os\n",
        "import numpy as np\n",
        "from keras.utils import np_utils\n",
        "from keras.models import Sequential\n",
        "from keras.layers import Dense,Activation,Flatten,Dropout\n",
        "from keras.layers import Conv2D,MaxPooling2D\n",
        "from keras.callbacks import ModelCheckpoint\n",
        "from sklearn.model_selection import train_test_split\n",
        "from matplotlib import pyplot as plt"
      ],
      "execution_count": 2,
      "outputs": []
    },
    {
      "cell_type": "code",
      "metadata": {
        "id": "w7j6rtfpMpEJ",
        "outputId": "0ae31424-98be-4735-bb50-e6fa316a39d4",
        "colab": {
          "base_uri": "https://localhost:8080/",
          "height": 68
        }
      },
      "source": [
        "data_path='/content/drive/My Drive/face-mask-detector/face-mask-detector/dataset'\n",
        "categories=os.listdir(data_path)\n",
        "labels=[i for i in range(len(categories))]\n",
        "\n",
        "label_dict=dict(zip(categories,labels))\n",
        "\n",
        "print(label_dict)\n",
        "print(categories)\n",
        "print(labels)"
      ],
      "execution_count": 3,
      "outputs": [
        {
          "output_type": "stream",
          "text": [
            "{'without_mask': 0, 'with_mask': 1}\n",
            "['without_mask', 'with_mask']\n",
            "[0, 1]\n"
          ],
          "name": "stdout"
        }
      ]
    },
    {
      "cell_type": "code",
      "metadata": {
        "id": "yp14Mg-jXv7E",
        "outputId": "43969821-e162-4702-f07f-c4684d7f5a3f",
        "colab": {
          "base_uri": "https://localhost:8080/",
          "height": 34
        }
      },
      "source": [
        "from google.colab import drive\n",
        "drive.mount('/content/drive')"
      ],
      "execution_count": 1,
      "outputs": [
        {
          "output_type": "stream",
          "text": [
            "Mounted at /content/drive\n"
          ],
          "name": "stdout"
        }
      ]
    },
    {
      "cell_type": "code",
      "metadata": {
        "id": "IfWONIy6MpEQ"
      },
      "source": [
        "img_size=100\n",
        "data=[]\n",
        "target=[]\n",
        "\n",
        "\n",
        "for category in categories:\n",
        "    folder_path=os.path.join(data_path,category)\n",
        "    img_names=os.listdir(folder_path)\n",
        "        \n",
        "    for img_name in img_names:\n",
        "        img_path=os.path.join(folder_path,img_name)\n",
        "        img=cv2.imread(img_path)\n",
        "\n",
        "        try:\n",
        "            #Coverting the image into gray scale\n",
        "            gray=cv2.cvtColor(img,cv2.COLOR_BGR2GRAY)           \n",
        "            #resizing the gray scale into 100x100, since we need a fixed common size for all the images in the dataset\n",
        "            resized=cv2.resize(gray,(img_size,img_size))\n",
        "            #appending the image and the label(categorized) into the list (dataset)\n",
        "            data.append(resized)\n",
        "            target.append(label_dict[category])\n",
        "            \n",
        "            #if any exception rasied, the exception will be printed here. And pass to the next image\n",
        "        except Exception as e:\n",
        "            print('Exception:',e)\n",
        "            "
      ],
      "execution_count": 4,
      "outputs": []
    },
    {
      "cell_type": "code",
      "metadata": {
        "id": "58jFxfd9MpEU"
      },
      "source": [
        "data=np.array(data)/255.0\n",
        "data=np.reshape(data,(data.shape[0],img_size,img_size,1))\n",
        "target=np.array(target)\n",
        "new_target=np_utils.to_categorical(target)"
      ],
      "execution_count": 5,
      "outputs": []
    },
    {
      "cell_type": "code",
      "metadata": {
        "id": "PwszAALFR9EG",
        "outputId": "f860fba4-bf1d-4269-f638-e69f8c11515a",
        "colab": {
          "base_uri": "https://localhost:8080/",
          "height": 34
        }
      },
      "source": [
        "new_target.shape"
      ],
      "execution_count": 7,
      "outputs": [
        {
          "output_type": "execute_result",
          "data": {
            "text/plain": [
              "(1376, 2)"
            ]
          },
          "metadata": {
            "tags": []
          },
          "execution_count": 7
        }
      ]
    },
    {
      "cell_type": "code",
      "metadata": {
        "id": "p3Et92hvMpEZ"
      },
      "source": [
        "np.save('data',data)\n",
        "np.save('target',new_target)"
      ],
      "execution_count": 6,
      "outputs": []
    },
    {
      "cell_type": "code",
      "metadata": {
        "id": "y3g-7Fal07Uq"
      },
      "source": [
        "import numpy as np\n",
        "\n",
        "data=np.load('data.npy')\n",
        "target=np.load('target.npy')\n"
      ],
      "execution_count": 8,
      "outputs": []
    },
    {
      "cell_type": "code",
      "metadata": {
        "id": "T9IUSmb0Sb0m",
        "outputId": "d5e4922a-7a8a-42b9-f06c-8a8b6ed6f27f",
        "colab": {
          "base_uri": "https://localhost:8080/",
          "height": 34
        }
      },
      "source": [
        "data.shape"
      ],
      "execution_count": 9,
      "outputs": [
        {
          "output_type": "execute_result",
          "data": {
            "text/plain": [
              "(1376, 100, 100, 1)"
            ]
          },
          "metadata": {
            "tags": []
          },
          "execution_count": 9
        }
      ]
    },
    {
      "cell_type": "code",
      "metadata": {
        "id": "zb9y2zrMShEL",
        "outputId": "bb927189-df52-4d43-accf-976875a3c9e2",
        "colab": {
          "base_uri": "https://localhost:8080/",
          "height": 34
        }
      },
      "source": [
        "data.shape[1:]"
      ],
      "execution_count": 10,
      "outputs": [
        {
          "output_type": "execute_result",
          "data": {
            "text/plain": [
              "(100, 100, 1)"
            ]
          },
          "metadata": {
            "tags": []
          },
          "execution_count": 10
        }
      ]
    },
    {
      "cell_type": "code",
      "metadata": {
        "id": "APgnB7izVdiY"
      },
      "source": [
        "model=Sequential()\n",
        "\n",
        "model.add(Conv2D(200,(3,3),input_shape=data.shape[1:]))\n",
        "model.add(Activation('relu'))\n",
        "model.add(MaxPooling2D(pool_size=(2,2)))\n",
        "model.add(Conv2D(100,(3,3)))\n",
        "model.add(Activation('relu'))\n",
        "model.add(MaxPooling2D(pool_size=(2,2)))\n",
        "#Flatten layer to stack the output convolutions from second convolution layer\n",
        "model.add(Flatten())\n",
        "model.add(Dropout(0.5))\n",
        "\n",
        "model.add(Dense(50,activation='relu'))\n",
        "model.add(Dense(2,activation='softmax'))\n",
        "\n",
        "model.compile(loss='categorical_crossentropy',optimizer='adam',metrics=['accuracy'])"
      ],
      "execution_count": 11,
      "outputs": []
    },
    {
      "cell_type": "code",
      "metadata": {
        "id": "NQUxCe--ThmP"
      },
      "source": [
        "train_data,test_data,train_target,test_target=train_test_split(data,target,test_size=0.1)"
      ],
      "execution_count": 14,
      "outputs": []
    },
    {
      "cell_type": "code",
      "metadata": {
        "id": "9riSlGXuTVHZ",
        "outputId": "ba9e1020-70a3-4c10-c6b8-93ae1ea39fe1",
        "colab": {
          "base_uri": "https://localhost:8080/",
          "height": 1000
        }
      },
      "source": [
        "checkpoint = ModelCheckpoint('model-{epoch:03d}.model',monitor='val_loss',verbose=0,save_best_only=True,mode='auto')\n",
        "history=model.fit(train_data,train_target,epochs=100,callbacks=[checkpoint],validation_split=0.2)"
      ],
      "execution_count": 15,
      "outputs": [
        {
          "output_type": "stream",
          "text": [
            "Epoch 1/100\n",
            "31/31 [==============================] - ETA: 0s - loss: 0.6859 - accuracy: 0.5475WARNING:tensorflow:From /usr/local/lib/python3.6/dist-packages/tensorflow/python/training/tracking/tracking.py:111: Model.state_updates (from tensorflow.python.keras.engine.training) is deprecated and will be removed in a future version.\n",
            "Instructions for updating:\n",
            "This property should not be used in TensorFlow 2.0, as updates are applied automatically.\n",
            "WARNING:tensorflow:From /usr/local/lib/python3.6/dist-packages/tensorflow/python/training/tracking/tracking.py:111: Layer.updates (from tensorflow.python.keras.engine.base_layer) is deprecated and will be removed in a future version.\n",
            "Instructions for updating:\n",
            "This property should not be used in TensorFlow 2.0, as updates are applied automatically.\n",
            "INFO:tensorflow:Assets written to: model-001.model/assets\n",
            "31/31 [==============================] - 80s 3s/step - loss: 0.6859 - accuracy: 0.5475 - val_loss: 0.6271 - val_accuracy: 0.5645\n",
            "Epoch 2/100\n",
            "31/31 [==============================] - ETA: 0s - loss: 0.5120 - accuracy: 0.7545INFO:tensorflow:Assets written to: model-002.model/assets\n",
            "31/31 [==============================] - 76s 2s/step - loss: 0.5120 - accuracy: 0.7545 - val_loss: 0.3527 - val_accuracy: 0.8589\n",
            "Epoch 3/100\n",
            "31/31 [==============================] - ETA: 0s - loss: 0.3504 - accuracy: 0.8475INFO:tensorflow:Assets written to: model-003.model/assets\n",
            "31/31 [==============================] - 76s 2s/step - loss: 0.3504 - accuracy: 0.8475 - val_loss: 0.2389 - val_accuracy: 0.9073\n",
            "Epoch 4/100\n",
            "31/31 [==============================] - ETA: 0s - loss: 0.2157 - accuracy: 0.9283INFO:tensorflow:Assets written to: model-004.model/assets\n",
            "31/31 [==============================] - 75s 2s/step - loss: 0.2157 - accuracy: 0.9283 - val_loss: 0.1936 - val_accuracy: 0.9274\n",
            "Epoch 5/100\n",
            "31/31 [==============================] - 75s 2s/step - loss: 0.1743 - accuracy: 0.9374 - val_loss: 0.2337 - val_accuracy: 0.8992\n",
            "Epoch 6/100\n",
            "31/31 [==============================] - ETA: 0s - loss: 0.1499 - accuracy: 0.9434INFO:tensorflow:Assets written to: model-006.model/assets\n",
            "31/31 [==============================] - 76s 2s/step - loss: 0.1499 - accuracy: 0.9434 - val_loss: 0.1212 - val_accuracy: 0.9556\n",
            "Epoch 7/100\n",
            "31/31 [==============================] - 75s 2s/step - loss: 0.1175 - accuracy: 0.9556 - val_loss: 0.1257 - val_accuracy: 0.9556\n",
            "Epoch 8/100\n",
            "31/31 [==============================] - 74s 2s/step - loss: 0.1009 - accuracy: 0.9616 - val_loss: 0.1286 - val_accuracy: 0.9435\n",
            "Epoch 9/100\n",
            "31/31 [==============================] - ETA: 0s - loss: 0.1057 - accuracy: 0.9687INFO:tensorflow:Assets written to: model-009.model/assets\n",
            "31/31 [==============================] - 80s 3s/step - loss: 0.1057 - accuracy: 0.9687 - val_loss: 0.1127 - val_accuracy: 0.9677\n",
            "Epoch 10/100\n",
            "31/31 [==============================] - 75s 2s/step - loss: 0.0702 - accuracy: 0.9747 - val_loss: 0.1198 - val_accuracy: 0.9556\n",
            "Epoch 11/100\n",
            "31/31 [==============================] - 75s 2s/step - loss: 0.0670 - accuracy: 0.9758 - val_loss: 0.1472 - val_accuracy: 0.9355\n",
            "Epoch 12/100\n",
            "31/31 [==============================] - ETA: 0s - loss: 0.0591 - accuracy: 0.9818INFO:tensorflow:Assets written to: model-012.model/assets\n",
            "31/31 [==============================] - 76s 2s/step - loss: 0.0591 - accuracy: 0.9818 - val_loss: 0.1078 - val_accuracy: 0.9718\n",
            "Epoch 13/100\n",
            "31/31 [==============================] - ETA: 0s - loss: 0.0501 - accuracy: 0.9808INFO:tensorflow:Assets written to: model-013.model/assets\n",
            "31/31 [==============================] - 76s 2s/step - loss: 0.0501 - accuracy: 0.9808 - val_loss: 0.1050 - val_accuracy: 0.9556\n",
            "Epoch 14/100\n",
            "31/31 [==============================] - 75s 2s/step - loss: 0.0888 - accuracy: 0.9687 - val_loss: 0.1207 - val_accuracy: 0.9637\n",
            "Epoch 15/100\n",
            "31/31 [==============================] - 75s 2s/step - loss: 0.0372 - accuracy: 0.9869 - val_loss: 0.1130 - val_accuracy: 0.9637\n",
            "Epoch 16/100\n",
            "31/31 [==============================] - 75s 2s/step - loss: 0.0290 - accuracy: 0.9889 - val_loss: 0.1094 - val_accuracy: 0.9677\n",
            "Epoch 17/100\n",
            "31/31 [==============================] - 79s 3s/step - loss: 0.0256 - accuracy: 0.9889 - val_loss: 0.1493 - val_accuracy: 0.9516\n",
            "Epoch 18/100\n",
            "31/31 [==============================] - 75s 2s/step - loss: 0.0259 - accuracy: 0.9909 - val_loss: 0.1247 - val_accuracy: 0.9677\n",
            "Epoch 19/100\n",
            "31/31 [==============================] - 75s 2s/step - loss: 0.0349 - accuracy: 0.9879 - val_loss: 0.1634 - val_accuracy: 0.9476\n",
            "Epoch 20/100\n",
            "31/31 [==============================] - 75s 2s/step - loss: 0.0192 - accuracy: 0.9929 - val_loss: 0.1219 - val_accuracy: 0.9637\n",
            "Epoch 21/100\n",
            "31/31 [==============================] - 75s 2s/step - loss: 0.0140 - accuracy: 0.9970 - val_loss: 0.1615 - val_accuracy: 0.9516\n",
            "Epoch 22/100\n",
            "31/31 [==============================] - 75s 2s/step - loss: 0.0132 - accuracy: 0.9960 - val_loss: 0.1499 - val_accuracy: 0.9597\n",
            "Epoch 23/100\n",
            "31/31 [==============================] - 75s 2s/step - loss: 0.0160 - accuracy: 0.9939 - val_loss: 0.1468 - val_accuracy: 0.9556\n",
            "Epoch 24/100\n",
            "31/31 [==============================] - 77s 2s/step - loss: 0.0059 - accuracy: 0.9990 - val_loss: 0.1887 - val_accuracy: 0.9556\n",
            "Epoch 25/100\n",
            "31/31 [==============================] - 75s 2s/step - loss: 0.0200 - accuracy: 0.9960 - val_loss: 0.1319 - val_accuracy: 0.9637\n",
            "Epoch 26/100\n",
            "31/31 [==============================] - 75s 2s/step - loss: 0.0239 - accuracy: 0.9919 - val_loss: 0.1616 - val_accuracy: 0.9597\n",
            "Epoch 27/100\n",
            "31/31 [==============================] - 75s 2s/step - loss: 0.0236 - accuracy: 0.9929 - val_loss: 0.1275 - val_accuracy: 0.9597\n",
            "Epoch 28/100\n",
            "31/31 [==============================] - 75s 2s/step - loss: 0.0075 - accuracy: 0.9990 - val_loss: 0.1396 - val_accuracy: 0.9637\n",
            "Epoch 29/100\n",
            "31/31 [==============================] - 75s 2s/step - loss: 0.0080 - accuracy: 0.9980 - val_loss: 0.1515 - val_accuracy: 0.9556\n",
            "Epoch 30/100\n",
            "31/31 [==============================] - 75s 2s/step - loss: 0.0026 - accuracy: 1.0000 - val_loss: 0.1686 - val_accuracy: 0.9556\n",
            "Epoch 31/100\n",
            "31/31 [==============================] - 75s 2s/step - loss: 0.0031 - accuracy: 1.0000 - val_loss: 0.1622 - val_accuracy: 0.9556\n",
            "Epoch 32/100\n",
            "31/31 [==============================] - 79s 3s/step - loss: 0.0097 - accuracy: 0.9960 - val_loss: 0.1422 - val_accuracy: 0.9718\n",
            "Epoch 33/100\n",
            "31/31 [==============================] - 75s 2s/step - loss: 0.0059 - accuracy: 0.9990 - val_loss: 0.1326 - val_accuracy: 0.9597\n",
            "Epoch 34/100\n",
            "31/31 [==============================] - 75s 2s/step - loss: 0.0034 - accuracy: 0.9990 - val_loss: 0.1307 - val_accuracy: 0.9597\n",
            "Epoch 35/100\n",
            "31/31 [==============================] - 75s 2s/step - loss: 0.0031 - accuracy: 1.0000 - val_loss: 0.1538 - val_accuracy: 0.9718\n",
            "Epoch 36/100\n",
            "31/31 [==============================] - 75s 2s/step - loss: 0.0035 - accuracy: 0.9990 - val_loss: 0.1668 - val_accuracy: 0.9637\n",
            "Epoch 37/100\n",
            "31/31 [==============================] - 75s 2s/step - loss: 0.0091 - accuracy: 0.9960 - val_loss: 0.1843 - val_accuracy: 0.9516\n",
            "Epoch 38/100\n",
            "31/31 [==============================] - 75s 2s/step - loss: 0.0253 - accuracy: 0.9909 - val_loss: 0.1537 - val_accuracy: 0.9516\n",
            "Epoch 39/100\n",
            "31/31 [==============================] - 75s 2s/step - loss: 0.0090 - accuracy: 0.9980 - val_loss: 0.1371 - val_accuracy: 0.9718\n",
            "Epoch 40/100\n",
            "31/31 [==============================] - 79s 3s/step - loss: 0.0085 - accuracy: 0.9980 - val_loss: 0.1588 - val_accuracy: 0.9677\n",
            "Epoch 41/100\n",
            "31/31 [==============================] - 75s 2s/step - loss: 0.0013 - accuracy: 1.0000 - val_loss: 0.1719 - val_accuracy: 0.9556\n",
            "Epoch 42/100\n",
            "31/31 [==============================] - 74s 2s/step - loss: 0.0090 - accuracy: 0.9970 - val_loss: 0.1627 - val_accuracy: 0.9516\n",
            "Epoch 43/100\n",
            "31/31 [==============================] - 75s 2s/step - loss: 0.0161 - accuracy: 0.9980 - val_loss: 0.1127 - val_accuracy: 0.9718\n",
            "Epoch 44/100\n",
            "31/31 [==============================] - 75s 2s/step - loss: 0.0108 - accuracy: 0.9980 - val_loss: 0.1603 - val_accuracy: 0.9677\n",
            "Epoch 45/100\n",
            "31/31 [==============================] - 75s 2s/step - loss: 0.0259 - accuracy: 0.9929 - val_loss: 0.1514 - val_accuracy: 0.9718\n",
            "Epoch 46/100\n",
            "31/31 [==============================] - 75s 2s/step - loss: 0.0299 - accuracy: 0.9899 - val_loss: 0.1288 - val_accuracy: 0.9637\n",
            "Epoch 47/100\n",
            "31/31 [==============================] - 75s 2s/step - loss: 0.0150 - accuracy: 0.9929 - val_loss: 0.1926 - val_accuracy: 0.9637\n",
            "Epoch 48/100\n",
            "31/31 [==============================] - 79s 3s/step - loss: 0.0109 - accuracy: 0.9980 - val_loss: 0.1745 - val_accuracy: 0.9637\n",
            "Epoch 49/100\n",
            "31/31 [==============================] - 74s 2s/step - loss: 0.0264 - accuracy: 0.9929 - val_loss: 0.1717 - val_accuracy: 0.9637\n",
            "Epoch 50/100\n",
            "31/31 [==============================] - 74s 2s/step - loss: 0.0209 - accuracy: 0.9939 - val_loss: 0.2334 - val_accuracy: 0.9556\n",
            "Epoch 51/100\n",
            "31/31 [==============================] - 75s 2s/step - loss: 0.1145 - accuracy: 0.9667 - val_loss: 0.2366 - val_accuracy: 0.9315\n",
            "Epoch 52/100\n",
            "31/31 [==============================] - 75s 2s/step - loss: 0.0453 - accuracy: 0.9848 - val_loss: 0.1658 - val_accuracy: 0.9637\n",
            "Epoch 53/100\n",
            "31/31 [==============================] - 75s 2s/step - loss: 0.0069 - accuracy: 0.9990 - val_loss: 0.1742 - val_accuracy: 0.9597\n",
            "Epoch 54/100\n",
            "31/31 [==============================] - 75s 2s/step - loss: 0.0028 - accuracy: 0.9990 - val_loss: 0.2537 - val_accuracy: 0.9597\n",
            "Epoch 55/100\n",
            "31/31 [==============================] - 75s 2s/step - loss: 0.0021 - accuracy: 1.0000 - val_loss: 0.2136 - val_accuracy: 0.9597\n",
            "Epoch 56/100\n",
            "31/31 [==============================] - 78s 3s/step - loss: 0.0036 - accuracy: 1.0000 - val_loss: 0.2040 - val_accuracy: 0.9637\n",
            "Epoch 57/100\n",
            "31/31 [==============================] - 75s 2s/step - loss: 0.0067 - accuracy: 0.9960 - val_loss: 0.2337 - val_accuracy: 0.9556\n",
            "Epoch 58/100\n",
            "31/31 [==============================] - 75s 2s/step - loss: 0.0129 - accuracy: 0.9960 - val_loss: 0.2321 - val_accuracy: 0.9677\n",
            "Epoch 59/100\n",
            "31/31 [==============================] - 75s 2s/step - loss: 0.0075 - accuracy: 0.9980 - val_loss: 0.2297 - val_accuracy: 0.9556\n",
            "Epoch 60/100\n",
            "31/31 [==============================] - 75s 2s/step - loss: 0.0120 - accuracy: 0.9960 - val_loss: 0.1975 - val_accuracy: 0.9556\n",
            "Epoch 61/100\n",
            "31/31 [==============================] - 74s 2s/step - loss: 0.0017 - accuracy: 1.0000 - val_loss: 0.2524 - val_accuracy: 0.9597\n",
            "Epoch 62/100\n",
            "31/31 [==============================] - 75s 2s/step - loss: 0.0019 - accuracy: 0.9990 - val_loss: 0.2701 - val_accuracy: 0.9516\n",
            "Epoch 63/100\n",
            "31/31 [==============================] - 75s 2s/step - loss: 0.0030 - accuracy: 0.9990 - val_loss: 0.2190 - val_accuracy: 0.9556\n",
            "Epoch 64/100\n",
            "31/31 [==============================] - 78s 3s/step - loss: 0.0040 - accuracy: 0.9990 - val_loss: 0.1830 - val_accuracy: 0.9677\n",
            "Epoch 65/100\n",
            "31/31 [==============================] - 75s 2s/step - loss: 0.0042 - accuracy: 0.9990 - val_loss: 0.2064 - val_accuracy: 0.9677\n",
            "Epoch 66/100\n",
            "31/31 [==============================] - 75s 2s/step - loss: 0.0015 - accuracy: 0.9990 - val_loss: 0.2066 - val_accuracy: 0.9677\n",
            "Epoch 67/100\n",
            "31/31 [==============================] - 75s 2s/step - loss: 0.0039 - accuracy: 0.9990 - val_loss: 0.2059 - val_accuracy: 0.9677\n",
            "Epoch 68/100\n",
            "31/31 [==============================] - 75s 2s/step - loss: 0.0029 - accuracy: 0.9990 - val_loss: 0.3113 - val_accuracy: 0.9516\n",
            "Epoch 69/100\n",
            "31/31 [==============================] - 75s 2s/step - loss: 0.0035 - accuracy: 0.9990 - val_loss: 0.2500 - val_accuracy: 0.9476\n",
            "Epoch 70/100\n",
            "31/31 [==============================] - 75s 2s/step - loss: 0.0020 - accuracy: 0.9990 - val_loss: 0.2098 - val_accuracy: 0.9677\n",
            "Epoch 71/100\n",
            "31/31 [==============================] - 75s 2s/step - loss: 0.0016 - accuracy: 0.9990 - val_loss: 0.2621 - val_accuracy: 0.9637\n",
            "Epoch 72/100\n",
            "31/31 [==============================] - 78s 3s/step - loss: 0.0040 - accuracy: 0.9980 - val_loss: 0.2204 - val_accuracy: 0.9637\n",
            "Epoch 73/100\n",
            "31/31 [==============================] - 74s 2s/step - loss: 0.0122 - accuracy: 0.9960 - val_loss: 0.2388 - val_accuracy: 0.9637\n",
            "Epoch 74/100\n",
            "31/31 [==============================] - 75s 2s/step - loss: 0.0120 - accuracy: 0.9960 - val_loss: 0.2093 - val_accuracy: 0.9637\n",
            "Epoch 75/100\n",
            "31/31 [==============================] - 74s 2s/step - loss: 0.0147 - accuracy: 0.9970 - val_loss: 0.1443 - val_accuracy: 0.9677\n",
            "Epoch 76/100\n",
            "31/31 [==============================] - 75s 2s/step - loss: 0.0107 - accuracy: 0.9970 - val_loss: 0.1183 - val_accuracy: 0.9758\n",
            "Epoch 77/100\n",
            "31/31 [==============================] - 75s 2s/step - loss: 0.0048 - accuracy: 0.9990 - val_loss: 0.1685 - val_accuracy: 0.9637\n",
            "Epoch 78/100\n",
            "31/31 [==============================] - 75s 2s/step - loss: 0.0020 - accuracy: 0.9990 - val_loss: 0.1700 - val_accuracy: 0.9637\n",
            "Epoch 79/100\n",
            "31/31 [==============================] - 75s 2s/step - loss: 5.1486e-04 - accuracy: 1.0000 - val_loss: 0.1816 - val_accuracy: 0.9637\n",
            "Epoch 80/100\n",
            "31/31 [==============================] - 77s 2s/step - loss: 0.0013 - accuracy: 1.0000 - val_loss: 0.1925 - val_accuracy: 0.9637\n",
            "Epoch 81/100\n",
            "31/31 [==============================] - 74s 2s/step - loss: 0.0020 - accuracy: 0.9990 - val_loss: 0.1964 - val_accuracy: 0.9637\n",
            "Epoch 82/100\n",
            "31/31 [==============================] - 75s 2s/step - loss: 3.3379e-04 - accuracy: 1.0000 - val_loss: 0.2050 - val_accuracy: 0.9637\n",
            "Epoch 83/100\n",
            "31/31 [==============================] - 76s 2s/step - loss: 4.0852e-04 - accuracy: 1.0000 - val_loss: 0.2034 - val_accuracy: 0.9637\n",
            "Epoch 84/100\n",
            "31/31 [==============================] - 76s 2s/step - loss: 0.0011 - accuracy: 1.0000 - val_loss: 0.1913 - val_accuracy: 0.9677\n",
            "Epoch 85/100\n",
            "31/31 [==============================] - 74s 2s/step - loss: 2.4779e-04 - accuracy: 1.0000 - val_loss: 0.1945 - val_accuracy: 0.9677\n",
            "Epoch 86/100\n",
            "31/31 [==============================] - 74s 2s/step - loss: 5.8697e-04 - accuracy: 1.0000 - val_loss: 0.2195 - val_accuracy: 0.9637\n",
            "Epoch 87/100\n",
            "31/31 [==============================] - 78s 3s/step - loss: 0.0050 - accuracy: 0.9990 - val_loss: 0.1896 - val_accuracy: 0.9718\n",
            "Epoch 88/100\n",
            "31/31 [==============================] - 74s 2s/step - loss: 0.0111 - accuracy: 0.9970 - val_loss: 0.1655 - val_accuracy: 0.9718\n",
            "Epoch 89/100\n",
            "31/31 [==============================] - 73s 2s/step - loss: 0.0021 - accuracy: 1.0000 - val_loss: 0.1923 - val_accuracy: 0.9677\n",
            "Epoch 90/100\n",
            "31/31 [==============================] - 74s 2s/step - loss: 0.0117 - accuracy: 0.9970 - val_loss: 0.1738 - val_accuracy: 0.9637\n",
            "Epoch 91/100\n",
            "31/31 [==============================] - 74s 2s/step - loss: 0.0213 - accuracy: 0.9939 - val_loss: 0.1776 - val_accuracy: 0.9637\n",
            "Epoch 92/100\n",
            "31/31 [==============================] - 74s 2s/step - loss: 0.0099 - accuracy: 0.9960 - val_loss: 0.2238 - val_accuracy: 0.9597\n",
            "Epoch 93/100\n",
            "31/31 [==============================] - 73s 2s/step - loss: 0.0213 - accuracy: 0.9949 - val_loss: 0.2412 - val_accuracy: 0.9476\n",
            "Epoch 94/100\n",
            "31/31 [==============================] - 74s 2s/step - loss: 0.0074 - accuracy: 0.9970 - val_loss: 0.1653 - val_accuracy: 0.9677\n",
            "Epoch 95/100\n",
            "31/31 [==============================] - 78s 3s/step - loss: 0.0010 - accuracy: 1.0000 - val_loss: 0.1916 - val_accuracy: 0.9677\n",
            "Epoch 96/100\n",
            "31/31 [==============================] - 75s 2s/step - loss: 0.0016 - accuracy: 1.0000 - val_loss: 0.1794 - val_accuracy: 0.9758\n",
            "Epoch 97/100\n",
            "31/31 [==============================] - 75s 2s/step - loss: 5.6814e-04 - accuracy: 1.0000 - val_loss: 0.1901 - val_accuracy: 0.9718\n",
            "Epoch 98/100\n",
            "31/31 [==============================] - 76s 2s/step - loss: 7.9792e-04 - accuracy: 1.0000 - val_loss: 0.2293 - val_accuracy: 0.9677\n",
            "Epoch 99/100\n",
            "31/31 [==============================] - 75s 2s/step - loss: 5.7632e-04 - accuracy: 1.0000 - val_loss: 0.2180 - val_accuracy: 0.9677\n",
            "Epoch 100/100\n",
            "31/31 [==============================] - 75s 2s/step - loss: 7.3443e-05 - accuracy: 1.0000 - val_loss: 0.2224 - val_accuracy: 0.9677\n"
          ],
          "name": "stdout"
        }
      ]
    },
    {
      "cell_type": "code",
      "metadata": {
        "id": "FWISF15yYFct",
        "outputId": "2c80d2f9-4f05-4cb1-f006-69d8d8c00385",
        "colab": {
          "base_uri": "https://localhost:8080/",
          "height": 279
        }
      },
      "source": [
        "plt.plot(history.history['loss'],'r',label='training loss')\n",
        "plt.plot(history.history['val_loss'],label='validation loss')\n",
        "plt.xlabel('# epochs')\n",
        "plt.ylabel('loss')\n",
        "plt.legend()\n",
        "plt.show()"
      ],
      "execution_count": 16,
      "outputs": [
        {
          "output_type": "display_data",
          "data": {
            "image/png": "[encoded data removed]",
            "text/plain": [
              "<Figure size 432x288 with 1 Axes>"
            ]
          },
          "metadata": {
            "tags": [],
            "needs_background": "light"
          }
        }
      ]
    },
    {
      "cell_type": "code",
      "metadata": {
        "id": "AGo3AWs_YFY9",
        "outputId": "e325b3b4-749e-4c3a-b136-8ba67ffc84eb",
        "colab": {
          "base_uri": "https://localhost:8080/",
          "height": 279
        }
      },
      "source": [
        "plt.plot(history.history['accuracy'],'r',label='training accuracy')\n",
        "plt.plot(history.history['val_accuracy'],label='validation accuracy')\n",
        "plt.xlabel('# epochs')\n",
        "plt.ylabel('loss')\n",
        "plt.legend()\n",
        "plt.show()"
      ],
      "execution_count": 17,
      "outputs": [
        {
          "output_type": "display_data",
          "data": {
            "image/png": "[encoded data removed]",
            "text/plain": [
              "<Figure size 432x288 with 1 Axes>"
            ]
          },
          "metadata": {
            "tags": [],
            "needs_background": "light"
          }
        }
      ]
    },
    {
      "cell_type": "code",
      "metadata": {
        "id": "cAmnqso1YUlj",
        "outputId": "b278a311-2159-4d4b-c4e1-65c8cc737fd6",
        "colab": {
          "base_uri": "https://localhost:8080/",
          "height": 51
        }
      },
      "source": [
        "print(model.evaluate(test_data,test_target))"
      ],
      "execution_count": 18,
      "outputs": [
        {
          "output_type": "stream",
          "text": [
            "5/5 [==============================] - 2s 438ms/step - loss: 0.1175 - accuracy: 0.9565\n",
            "[0.11749015003442764, 0.95652174949646]\n"
          ],
          "name": "stdout"
        }
      ]
    },
    {
      "cell_type": "code",
      "metadata": {
        "id": "TrrtCaE4wvFV"
      },
      "source": [
        ""
      ],
      "execution_count": null,
      "outputs": []
    }
  ]
}